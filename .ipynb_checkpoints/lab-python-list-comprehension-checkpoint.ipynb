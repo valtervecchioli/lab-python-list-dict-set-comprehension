{
 "cells": [
  {
   "cell_type": "markdown",
   "id": "25d7736c-ba17-4aff-b6bb-66eba20fbf4e",
   "metadata": {},
   "source": [
    "# Lab | List, Dict and Set Comprehension"
   ]
  },
  {
   "cell_type": "markdown",
   "id": "7dd3cbde-675a-4b81-92c3-f728846dbe06",
   "metadata": {},
   "source": [
    "## Exercise: Managing Customer Orders Optimized with Comprehension"
   ]
  },
  {
   "cell_type": "markdown",
   "id": "5d500160-2fb7-4777-b5e4-09d45ebaf328",
   "metadata": {},
   "source": [
    "In the previous exercise, you developed a program to manage customer orders and inventory. Now, let's take it a step further and incorporate comprehension into your code.\n",
    "\n",
    "Follow the steps below to complete the exercise:\n",
    "\n",
    "1. Review your code from the previous exercise and identify areas where you can apply comprehension to simplify and streamline your code. \n",
    "\n",
    "    - *Hint: Apply it to initialize inventory, updating the inventory and printing the updated inventory.*\n",
    "    \n",
    "    - For example, in initializing the inventory, we could have:\n",
    "    \n",
    "        ```python\n",
    "        def initialize_inventory(products):\n",
    "            inventory = {product: int(input(f\"Enter the quantity of {product}s available: \")) for product in products}\n",
    "            return inventory\n",
    "\n",
    "        ```\n",
    "<br>\n",
    "    \n",
    "    \n",
    "2. Modify the function get_customer_orders so it prompts the user to enter the number of customer orders and gathers the product names using a loop and user input. Use comprehension.\n",
    "\n",
    "3. Add a new function to calculate the total price of the customer order. For each product in customer_orders, prompt the user to enter the price of that product. Use comprehension to calculate the total price. Note: assume that the user can only have 1 unit of each product.\n",
    "\n",
    "4. Modify the update_inventory function to remove the product from the inventory if its quantity becomes zero after fulfilling the customer orders. Use comprehension to filter out the products with a quantity of zero from the inventory.\n",
    "\n",
    "5. Print the total price of the customer order.\n",
    "\n",
    "Your code should produce output similar to the following:\n",
    "\n",
    "```python\n",
    "Enter the quantity of t-shirts available:  5\n",
    "Enter the quantity of mugs available:  4\n",
    "Enter the quantity of hats available:  3\n",
    "Enter the quantity of books available:  2\n",
    "Enter the quantity of keychains available:  1\n",
    "Enter the number of customer orders:  2\n",
    "Enter the name of a product that a customer wants to order:  hat\n",
    "Enter the name of a product that a customer wants to order:  keychain\n",
    "\n",
    "Order Statistics:\n",
    "Total Products Ordered: 2\n",
    "Percentage of Unique Products Ordered: 40.0\n",
    "\n",
    "Updated Inventory:\n",
    "t-shirt: 5\n",
    "mug: 4\n",
    "hat: 2\n",
    "book: 2\n",
    "Enter the price of keychain:  5\n",
    "Enter the price of hat:  10\n",
    "Total Price: 15.0\n",
    "\n",
    "```\n"
   ]
  },
  {
   "cell_type": "code",
   "execution_count": 1,
   "id": "e2c08004-3ceb-4ceb-99d6-707409d16aec",
   "metadata": {},
   "outputs": [
    {
     "name": "stdin",
     "output_type": "stream",
     "text": [
      "Enter the quantity of t-shirts available: 72\n",
      "Enter the quantity of mugs available: 59\n",
      "Enter the quantity of hats available: 103\n",
      "Enter the quantity of books available: 46\n",
      "Enter the quantity of keychains available: 97\n"
     ]
    },
    {
     "data": {
      "text/plain": [
       "{'t-shirt': 72, 'mug': 59, 'hat': 103, 'book': 46, 'keychain': 97}"
      ]
     },
     "execution_count": 1,
     "metadata": {},
     "output_type": "execute_result"
    }
   ],
   "source": [
    "#1.1\n",
    "products=[\"t-shirt\",\"mug\",\"hat\",\"book\",\"keychain\"]\n",
    "def initialize_inventory(products):\n",
    "    inventory = {product: int(input(f\"Enter the quantity of {product}s available:\")) for product in products}\n",
    "    return inventory\n",
    "initialize_inventory(products)\n"
   ]
  },
  {
   "cell_type": "code",
   "execution_count": 54,
   "id": "aa22b356-5a9f-4442-9015-2660b5ab63b6",
   "metadata": {},
   "outputs": [
    {
     "name": "stdin",
     "output_type": "stream",
     "text": [
      "please, select an item to order: mug\n",
      "do you want to continue your order? no\n"
     ]
    },
    {
     "name": "stdout",
     "output_type": "stream",
     "text": [
      "thank you\n"
     ]
    },
    {
     "data": {
      "text/plain": [
       "{'t-shirt': 72, 'mug': 60, 'hat': 103, 'book': 46, 'keychain': 97}"
      ]
     },
     "execution_count": 54,
     "metadata": {},
     "output_type": "execute_result"
    }
   ],
   "source": [
    "#1.2\n",
    "\n",
    "customer_orders=set()\n",
    "inventory={'t-shirt': 72, 'mug': 59, 'hat': 103, 'book': 46, 'keychain': 97} \n",
    "\n",
    "def update_inventory(customer_orders, inventory):\n",
    "    get_customer_orders()\n",
    "    upd_inventory = {item:inventory[item]+1 if item in customer_orders else inventory[item] for item in inventory}\n",
    "    return upd_inventory\n",
    "\n",
    "update_inventory(customer_orders,inventory)\n"
   ]
  },
  {
   "cell_type": "code",
   "execution_count": 55,
   "id": "a40c0cd9-721d-4fad-855e-bbebda83f4d0",
   "metadata": {},
   "outputs": [
    {
     "data": {
      "text/plain": [
       "{'t-shirt': 72, 'mug': 60, 'hat': 103, 'book': 46, 'keychain': 97}"
      ]
     },
     "execution_count": 55,
     "metadata": {},
     "output_type": "execute_result"
    }
   ],
   "source": [
    "#1.3\n",
    "\n",
    "def print_updated_inventory(inventory):\n",
    "    upd_inventory = {item:inventory[item]+1 if item in customer_orders else inventory[item] for item in inventory}\n",
    "    return upd_inventory\n",
    "\n",
    "print_updated_inventory(inventory)"
   ]
  },
  {
   "cell_type": "code",
   "execution_count": 90,
   "id": "beec5ca1-47fe-4fb0-87dc-4b3c0377ef99",
   "metadata": {},
   "outputs": [
    {
     "name": "stdin",
     "output_type": "stream",
     "text": [
      "How many t-shirts do you want to purchase? 6\n",
      "How many mugs do you want to purchase? 4\n",
      "How many hats do you want to purchase? 7\n",
      "How many books do you want to purchase? 3\n",
      "How many keychains do you want to purchase? 4\n"
     ]
    },
    {
     "data": {
      "text/plain": [
       "{'t-shirt': 78, 'mug': 64, 'hat': 110, 'book': 49, 'keychain': 101}"
      ]
     },
     "execution_count": 90,
     "metadata": {},
     "output_type": "execute_result"
    }
   ],
   "source": [
    "#2\n",
    "upd_inventory = {'t-shirt': 72, 'mug': 60, 'hat': 103, 'book': 46, 'keychain': 97}\n",
    "\n",
    "def get_customer_orders():\n",
    "    customer_orders={item:upd_inventory[item]+int(input(f\"How many {item}s do you want to purchase?\")) for item in upd_inventory.keys()}\n",
    "    return customer_orders\n",
    "\n",
    "get_customer_orders()"
   ]
  },
  {
   "cell_type": "code",
   "execution_count": 102,
   "id": "f171568c-3f37-4761-82c5-da189565c25e",
   "metadata": {},
   "outputs": [
    {
     "name": "stdin",
     "output_type": "stream",
     "text": [
      "Insert price for t-shirt: 40\n",
      "Insert price for mug: 25\n",
      "Insert price for hat: 20\n",
      "Insert price for book: 30\n",
      "Insert price for keychain: 15\n"
     ]
    },
    {
     "name": "stdout",
     "output_type": "stream",
     "text": [
      "{'t-shirt': 40, 'mug': 25, 'hat': 20, 'book': 30, 'keychain': 15}\n"
     ]
    },
    {
     "data": {
      "text/plain": [
       "130"
      ]
     },
     "execution_count": 102,
     "metadata": {},
     "output_type": "execute_result"
    }
   ],
   "source": [
    "#3\n",
    "def total_price():\n",
    "    tot={item:int(input(f\"Insert price for {item}:\")) for item in upd_inventory.keys()}\n",
    "    print(tot)\n",
    "    return sum(tot.values())\n",
    "\n",
    "total_price()"
   ]
  },
  {
   "cell_type": "code",
   "execution_count": 111,
   "id": "32bbc13b-2abc-4448-a5f3-d9c0a195fa1a",
   "metadata": {},
   "outputs": [
    {
     "name": "stdin",
     "output_type": "stream",
     "text": [
      "How many t-shirts do you want to purchase? 4\n",
      "How many mugs do you want to purchase? 2\n",
      "How many hats do you want to purchase? 3\n",
      "How many books do you want to purchase? 5\n",
      "How many keychains do you want to purchase? 3\n"
     ]
    },
    {
     "data": {
      "text/plain": [
       "{'t-shirt': 72, 'mug': 59, 'hat': 103, 'book': 46, 'keychain': 97}"
      ]
     },
     "execution_count": 111,
     "metadata": {},
     "output_type": "execute_result"
    }
   ],
   "source": [
    "#4\n",
    "customer_orders=set()\n",
    "inventory={'t-shirt': 72, 'mug': 59, 'hat': 103, 'book': 46, 'keychain': 97} \n",
    "\n",
    "def update_inventory(customer_orders, inventory):\n",
    "    get_customer_orders()\n",
    "    upd_inventory = {item:inventory[item]+1 if item in customer_orders else inventory[item] for item in inventory}\n",
    "    for item in upd_inventory:\n",
    "        if upd_inventory[item]==0:\n",
    "            pop(item)\n",
    "    return upd_inventory\n",
    "\n",
    "update_inventory(customer_orders,inventory)\n",
    "\n",
    "# I tried the solution: pop(item) for item in upd_inventory if upd_inventory[item]==0 but it has given me a syntax error I can't recall."
   ]
  },
  {
   "cell_type": "code",
   "execution_count": 116,
   "id": "f0a0bdcd-96bf-43ae-9c02-b581ca06747e",
   "metadata": {},
   "outputs": [
    {
     "name": "stdin",
     "output_type": "stream",
     "text": [
      "Enter the quantity of t-shirts available: 2\n",
      "Enter the quantity of mugs available: 2\n",
      "Enter the quantity of hats available: 2\n",
      "Enter the quantity of books available: 2\n",
      "Enter the quantity of keychains available: 2\n",
      "How many t-shirts do you want to purchase? 2\n",
      "How many mugs do you want to purchase? 2\n",
      "How many hats do you want to purchase? 2\n",
      "How many books do you want to purchase? 2\n",
      "How many keychains do you want to purchase? 2\n",
      "How many t-shirts do you want to purchase? 2\n",
      "How many mugs do you want to purchase? 2\n",
      "How many hats do you want to purchase? 2\n",
      "How many books do you want to purchase? 2\n",
      "How many keychains do you want to purchase? 2\n"
     ]
    },
    {
     "name": "stdout",
     "output_type": "stream",
     "text": [
      "0\n",
      "0.0%\n"
     ]
    },
    {
     "name": "stdin",
     "output_type": "stream",
     "text": [
      "Insert price for t-shirt: 22\n",
      "Insert price for mug: 22\n",
      "Insert price for hat: 22\n",
      "Insert price for book: 22\n",
      "Insert price for keychain: 22\n"
     ]
    },
    {
     "name": "stdout",
     "output_type": "stream",
     "text": [
      "{'t-shirt': 22, 'mug': 22, 'hat': 22, 'book': 22, 'keychain': 22}\n"
     ]
    }
   ],
   "source": [
    "#\n",
    "def print_order_statistics():\n",
    "    total_products_ordered = len(customer_orders)\n",
    "    perc_products_ordered = (total_products_ordered*100)/sum(inventory.values())\n",
    "    print(total_products_ordered)\n",
    "    print(f\"{perc_products_ordered}%\")\n",
    "\n",
    "def ultimate_order():\n",
    "    initialize_inventory(products)\n",
    "    get_customer_orders()\n",
    "    update_inventory(customer_orders, inventory)\n",
    "    print_order_statistics()\n",
    "    total_price()\n",
    "    \n",
    "ultimate_order()"
   ]
  },
  {
   "cell_type": "code",
   "execution_count": null,
   "id": "2a737904-35d7-485f-882d-e37599b715d5",
   "metadata": {},
   "outputs": [],
   "source": []
  }
 ],
 "metadata": {
  "kernelspec": {
   "display_name": "Python 3 (ipykernel)",
   "language": "python",
   "name": "python3"
  },
  "language_info": {
   "codemirror_mode": {
    "name": "ipython",
    "version": 3
   },
   "file_extension": ".py",
   "mimetype": "text/x-python",
   "name": "python",
   "nbconvert_exporter": "python",
   "pygments_lexer": "ipython3",
   "version": "3.11.7"
  }
 },
 "nbformat": 4,
 "nbformat_minor": 5
}
